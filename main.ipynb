{
 "cells": [
  {
   "cell_type": "markdown",
   "metadata": {},
   "source": [
    "# Scaffolding for RecSys and User x Item Feedback\n",
    "\n",
    "Using the IMDB and MovieLens data, we build a feature matrix that we can use for user-user and item-item recommendation."
   ]
  },
  {
   "cell_type": "code",
   "execution_count": 1,
   "metadata": {},
   "outputs": [],
   "source": [
    "%matplotlib inline"
   ]
  },
  {
   "cell_type": "code",
   "execution_count": 31,
   "metadata": {},
   "outputs": [],
   "source": [
    "import json\n",
    "import random\n",
    "import pandas as pd\n",
    "import numpy as np\n",
    "import random\n",
    "\n",
    "import matplotlib.pyplot as plt\n",
    "\n",
    "from collections import Counter\n",
    "\n",
    "from scipy.sparse import lil_matrix\n",
    "\n",
    "from sklearn.neighbors import DistanceMetric\n",
    "\n",
    "from sklearn.metrics import jaccard_score\n",
    "from sklearn.metrics import pairwise_distances\n",
    "import warnings\n",
    "warnings.filterwarnings('ignore')"
   ]
  },
  {
   "cell_type": "code",
   "execution_count": 3,
   "metadata": {},
   "outputs": [],
   "source": [
    "known_movies = set()\n",
    "\n",
    "user_ratings = {} # List of all our movie ratings for specific users\n",
    "movie_ids = []\n",
    "\n",
    "with open(\"../data/user_ratings.json\", \"r\") as in_file:\n",
    "    for line in in_file:\n",
    "        \n",
    "        this_rating = json.loads(line)\n",
    "        \n",
    "        known_movies.add(this_rating[\"title_id\"])\n",
    "        \n",
    "        if this_rating[\"title_id\"] not in movie_ids:\n",
    "            movie_ids.append(this_rating[\"title_id\"])\n",
    "        \n",
    "        this_users_ratings = user_ratings.get(this_rating[\"userId\"], [])\n",
    "        this_users_ratings.append((this_rating[\"title_id\"], this_rating[\"rating\"]))\n",
    "        \n",
    "        user_ratings[this_rating[\"userId\"]] = this_users_ratings\n",
    "        \n",
    "        "
   ]
  },
  {
   "cell_type": "code",
   "execution_count": 4,
   "metadata": {},
   "outputs": [],
   "source": [
    "movie_id_to_index = {m:i for i,m in enumerate(movie_ids)}"
   ]
  },
  {
   "cell_type": "code",
   "execution_count": 5,
   "metadata": {},
   "outputs": [
    {
     "name": "stdout",
     "output_type": "stream",
     "text": [
      "Known Users: 2244\n",
      "Known Movies: 4465\n"
     ]
    }
   ],
   "source": [
    "print(\"Known Users:\", len(user_ratings))\n",
    "print(\"Known Movies:\", len(known_movies))\n"
   ]
  },
  {
   "cell_type": "code",
   "execution_count": 6,
   "metadata": {},
   "outputs": [],
   "source": [
    "actor_id_to_name_map = {}     # Map Actor IDs to actor names\n",
    "actor_id_to_index_map = {}    # Map actor IDs to a unique index of known actors\n",
    "index_to_actor_ids = []       # Array mapping unique index back to actor ID (invert of actor_id_to_index_map)\n",
    "\n",
    "index_counter = 0    # Unique actor index; increment for each new actor\n",
    "known_actors = set()\n",
    "\n",
    "movie_actor_map = {} # List of all our movies and their actors\n",
    "\n",
    "test_count = 0\n",
    "with open(\"../data/imdb_recent_movies.json\", \"r\") as in_file:\n",
    "    for line in in_file:\n",
    "        \n",
    "        this_movie = json.loads(line)\n",
    "        \n",
    "        # Restrict to known movies\n",
    "        if this_movie[\"title_id\"] not in known_movies:\n",
    "            continue\n",
    "            \n",
    "        # Keep track of all the actors in this movie\n",
    "        for actor_id,actor_name in zip(this_movie['actor_ids'],this_movie['actor_names']):\n",
    "            \n",
    "            # Keep names and IDs\n",
    "            actor_id_to_name_map[actor_id] = actor_name\n",
    "            \n",
    "            # If we've seen this actor before, skip...\n",
    "            if actor_id in known_actors:\n",
    "                continue\n",
    "                \n",
    "            # ... Otherwise, add to known actor set and create new index for them\n",
    "            known_actors.add(actor_id)\n",
    "            actor_id_to_index_map[actor_id] = index_counter\n",
    "            index_to_actor_ids.append(actor_id)\n",
    "            index_counter += 1\n",
    "            \n",
    "        # Finished with this film\n",
    "        movie_actor_map[this_movie[\"title_id\"]] = ({\n",
    "            \"movie\": this_movie[\"title_name\"],\n",
    "            \"actors\": set(this_movie['actor_ids']),\n",
    "            \"genres\": this_movie[\"title_genre\"]\n",
    "        })"
   ]
  },
  {
   "cell_type": "code",
   "execution_count": 7,
   "metadata": {},
   "outputs": [
    {
     "name": "stdout",
     "output_type": "stream",
     "text": [
      "Known Actors: 5224\n",
      "Known Movies: 4465\n"
     ]
    }
   ],
   "source": [
    "print(\"Known Actors:\", len(known_actors))\n",
    "print(\"Known Movies:\", len(movie_actor_map))"
   ]
  },
  {
   "cell_type": "markdown",
   "metadata": {},
   "source": [
    "## Generate DataFrame using Sparse Matrics\n",
    "\n",
    "Convert our Movie Ratings data into a DataFrame that we can use for analysis."
   ]
  },
  {
   "cell_type": "code",
   "execution_count": 8,
   "metadata": {},
   "outputs": [],
   "source": [
    "# With sparse matrix, initialize to size of Users x Movies of 0s\n",
    "matrix_sparse = lil_matrix((len(user_ratings), len(known_movies)), dtype=float)\n",
    "\n",
    "# Update the matrix, user by user, setting non-zero values for the appropriate actors\n",
    "for row,this_user in enumerate(user_ratings): \n",
    "    this_user_ratings = user_ratings[this_user]\n",
    "    \n",
    "    for movie_id,rating in this_user_ratings:\n",
    "        this_movie_index = movie_id_to_index[movie_id]\n",
    "        matrix_sparse[row,this_movie_index] = rating"
   ]
  },
  {
   "cell_type": "code",
   "execution_count": 26,
   "metadata": {},
   "outputs": [
    {
     "data": {
      "text/plain": [
       "Index(['10', '37', '51', '126', '152', '263', '284', '448', '626', '706',\n",
       "       ...\n",
       "       '162002', '162073', '162207', '162257', '162363', '162420', '162434',\n",
       "       '162464', '162499', '162537'],\n",
       "      dtype='object', length=2244)"
      ]
     },
     "execution_count": 26,
     "metadata": {},
     "output_type": "execute_result"
    }
   ],
   "source": [
    "df = pd.DataFrame.sparse.from_spmatrix(\n",
    "    matrix_sparse, \n",
    "    index=[u for u in user_ratings],\n",
    "    columns=movie_ids\n",
    ").T\n",
    "df.columns"
   ]
  },
  {
   "cell_type": "markdown",
   "metadata": {},
   "source": [
    "#  My Work Below"
   ]
  },
  {
   "cell_type": "code",
   "execution_count": 10,
   "metadata": {},
   "outputs": [],
   "source": [
    "from sklearn.cluster import KMeans\n",
    "from numpy.linalg import norm\n",
    "import os"
   ]
  },
  {
   "cell_type": "code",
   "execution_count": 11,
   "metadata": {},
   "outputs": [],
   "source": [
    "def get_user(df : pd.DataFrame) -> str:\n",
    "    user_list = list(df.index)\n",
    "    selected_user = random.choice(user_list)\n",
    "    return selected_user\n",
    "\n",
    "def get_user_cluster(df : pd.DataFrame, selected_user : str) -> int:\n",
    "    cluster = df.loc[selected_user][-1]\n",
    "    return cluster\n",
    "\n",
    "def run_kmeans(df : pd.DataFrame, clusters : int) -> pd.DataFrame:\n",
    "    kmeans = KMeans(n_clusters=clusters, random_state=42).fit(df.T)\n",
    "    new_df = df.T\n",
    "    new_df['predicted_cluster'] = list(kmeans.labels_)\n",
    "    return new_df\n",
    "\n",
    "def get_not_watched_series(df : pd.DataFrame, selected_user : str) -> list:\n",
    "    user_series = df.loc[selected_user][:-1]\n",
    "    not_watched_series = list(user_series[user_series == 0].index)\n",
    "    return not_watched_series\n",
    "\n",
    "def get_watched_series(df : pd.DataFrame, selected_user : str) -> list:\n",
    "    user_series = df.loc[selected_user][:-1]\n",
    "    watched_series = list(user_series[user_series > 0].index)\n",
    "    return watched_series\n",
    "\n",
    "def from_group_user_not_seen_movies(new_df : pd.DataFrame, seen_movies : list, user_cluster : int, selected_user : str) -> pd.DataFrame:\n",
    "    group_1 = new_df[new_df['predicted_cluster'] == user_cluster]# Select group2, the cluster \n",
    "    group_1.drop([selected_user], inplace = True) # Droop user from group\n",
    "    group_1.drop(columns = ['predicted_cluster'], inplace = True) # Get rid of predicted cluster, not needed anymore\n",
    "    group_1.drop(columns = seen_movies, inplace = True) # Drop movies the target user has already seen from list of what other users have seen, these are columns\n",
    "    final_recommendation_listings = group_1[group_1 > 0].sum(axis = 0).sort_values(ascending = False)\n",
    "    return final_recommendation_listings\n",
    "\n",
    "def find_movies(recommendation_listing_ids : list) ->list:\n",
    "    movie_name_list = [movie_actor_map[movie_id]['movie'] for movie_id in recommendation_listing_ids]\n",
    "    return movie_name_list\n",
    "\n",
    "def get_recommendations_for_user(df : pd.DataFrame, clusters : int) -> pd.DataFrame:\n",
    "    df = run_kmeans(df, clusters)\n",
    "    selected_user = get_user(df)\n",
    "    print(f\"For user {selected_user}: \")\n",
    "    user_cluster = get_user_cluster(df, selected_user)\n",
    "    not_watched_series = (df, selected_user)\n",
    "    seen_movies = get_watched_series(df, selected_user)\n",
    "    recommendation_listing_ids = list(from_group_user_not_seen_movies(df, seen_movies, user_cluster, selected_user).index)\n",
    "    movie_lists = find_movies(recommendation_listing_ids)\n",
    "    return movie_lists[:5]\n",
    "    "
   ]
  },
  {
   "cell_type": "code",
   "execution_count": 36,
   "metadata": {},
   "outputs": [
    {
     "name": "stdout",
     "output_type": "stream",
     "text": [
      "For user 32538: \n"
     ]
    },
    {
     "data": {
      "text/plain": [
       "['Inception',\n",
       " 'Memento',\n",
       " 'Gladiator',\n",
       " 'Eternal Sunshine of the Spotless Mind',\n",
       " 'WALL·E']"
      ]
     },
     "execution_count": 36,
     "metadata": {},
     "output_type": "execute_result"
    }
   ],
   "source": [
    "get_recommendations_for_user(df, 4)"
   ]
  },
  {
   "cell_type": "code",
   "execution_count": 37,
   "metadata": {},
   "outputs": [
    {
     "name": "stdout",
     "output_type": "stream",
     "text": [
      "For user 85784: \n"
     ]
    },
    {
     "data": {
      "text/plain": [
       "['Inception', 'Gladiator', 'Shrek', 'WALL·E', 'Monsters, Inc.']"
      ]
     },
     "execution_count": 37,
     "metadata": {},
     "output_type": "execute_result"
    }
   ],
   "source": [
    "get_recommendations_for_user(df, 4)"
   ]
  },
  {
   "cell_type": "code",
   "execution_count": 38,
   "metadata": {},
   "outputs": [
    {
     "name": "stdout",
     "output_type": "stream",
     "text": [
      "For user 89668: \n"
     ]
    },
    {
     "data": {
      "text/plain": [
       "['Inception',\n",
       " 'Shrek',\n",
       " 'Eternal Sunshine of the Spotless Mind',\n",
       " 'WALL·E',\n",
       " 'Monsters, Inc.']"
      ]
     },
     "execution_count": 38,
     "metadata": {},
     "output_type": "execute_result"
    }
   ],
   "source": [
    "get_recommendations_for_user(df, 4)"
   ]
  }
 ],
 "metadata": {
  "kernelspec": {
   "display_name": "Python 3",
   "language": "python",
   "name": "python3"
  },
  "language_info": {
   "codemirror_mode": {
    "name": "ipython",
    "version": 3
   },
   "file_extension": ".py",
   "mimetype": "text/x-python",
   "name": "python",
   "nbconvert_exporter": "python",
   "pygments_lexer": "ipython3",
   "version": "3.7.6"
  }
 },
 "nbformat": 4,
 "nbformat_minor": 5
}
